{
 "cells": [
  {
   "cell_type": "code",
   "execution_count": null,
   "id": "2ab913ef-2927-43a8-8746-5934ec215cf2",
   "metadata": {},
   "outputs": [],
   "source": [
    "import os\n",
    "from autogen import ConversableAgent, register_function, initiate_chats\n",
    "from dotenv import load_dotenv\n",
    "from typing import Annotated\n",
    "import httpx"
   ]
  },
  {
   "cell_type": "code",
   "execution_count": null,
   "id": "4cb742a1-34f3-4838-909e-62c2ea7037b2",
   "metadata": {},
   "outputs": [],
   "source": [
    "OPENAI_API_KEY = \"<insert-openai-api-key>\"\n",
    "OPENWEATHER_API_KEY = \"<insert-openweather-api-key>\""
   ]
  },
  {
   "cell_type": "code",
   "execution_count": null,
   "id": "52ad26a3-d3e3-44d9-b41e-8ca5742b3ffe",
   "metadata": {},
   "outputs": [],
   "source": [
    "llm_config = {\n",
    "        \"config_list\": [{\"model\": \"gpt-4o-mini\", \"api_key\": OPENAI_API_KEY }],\n",
    "        \"cache_seed\": None,\n",
    "    }\n",
    "\n",
    "weather_assistant = ConversableAgent(\n",
    "    name=\"Assistant\",\n",
    "    system_message=\"You are a helpful AI weather assistant. \"\n",
    "    \"You provide relevant recommendations to the user based on available weather data. \"\n",
    "    \"Return 'TERMINATE' after you've answered the user's question.\",\n",
    "    llm_config=llm_config,\n",
    "    is_termination_msg=lambda msg: \"terminate\" in msg.get(\"content\").lower(),\n",
    ")"
   ]
  },
  {
   "cell_type": "code",
   "execution_count": null,
   "id": "f613aebb-3ee4-44ed-bd17-aa8fb5a9a701",
   "metadata": {},
   "outputs": [],
   "source": [
    "weather_api_proxy = ConversableAgent(\n",
    "    name=\"Weather API Proxy\",\n",
    "    llm_config=False,\n",
    "    default_auto_reply=\"Make an API request to get the latest weather as needed\",\n",
    "    human_input_mode=\"NEVER\",\n",
    "    max_consecutive_auto_reply=1,\n",
    ")"
   ]
  },
  {
   "cell_type": "code",
   "execution_count": null,
   "id": "d8a6eb61-646f-423d-a6cd-939a81478671",
   "metadata": {},
   "outputs": [],
   "source": [
    "user_proxy = ConversableAgent(\n",
    "    name=\"User\",\n",
    "    llm_config=False,\n",
    "    is_termination_msg=lambda msg: msg.get(\"content\") is not None\n",
    "    or \"terminate\" in msg.get(\"content\").lower(),\n",
    "    human_input_mode=\"ALWAYS\",\n",
    ")"
   ]
  },
  {
   "cell_type": "code",
   "execution_count": null,
   "id": "e6d07593-aa00-4458-b8ca-c53916ab48ff",
   "metadata": {},
   "outputs": [],
   "source": [
    "def get_current_weather(\n",
    "    lat: Annotated[float, \"Latitude of the weather location\"],\n",
    "    lon: Annotated[float, \"Longitude of the weather location\"],\n",
    ") -> dict:\n",
    "\n",
    "    api_key = OPENWEATHER_API_KEY\n",
    "    base_url = \"https://api.openweathermap.org/data/3.0/onecall\"\n",
    "    arguments = f\"?lat={lat}&lon={lon}&appid={api_key}&units=metric\"\n",
    "\n",
    "    endpoint = f\"{base_url}{arguments}\"\n",
    "    response = httpx.get(endpoint)\n",
    "    \n",
    "    return response.json()\n",
    "\n",
    "register_function(\n",
    "    get_current_weather,\n",
    "    caller=weather_assistant,\n",
    "    executor=weather_api_proxy,\n",
    "    description=\"A tool for obtaining weather information. Units are given in metric.\",\n",
    ")\n"
   ]
  },
  {
   "cell_type": "code",
   "execution_count": null,
   "id": "e6f0fbd2-e5ef-48c1-ad30-593ca71dab9b",
   "metadata": {},
   "outputs": [],
   "source": [
    "weather_assistant.register_nested_chats(\n",
    "    trigger=user_proxy,\n",
    "    chat_queue = [\n",
    "        {\n",
    "            \"sender\": weather_api_proxy,\n",
    "            \"recipient\": weather_assistant,\n",
    "            \"summary_method\": \"reflection_with_llm\",\n",
    "        }\n",
    "    ]\n",
    ")"
   ]
  },
  {
   "cell_type": "code",
   "execution_count": null,
   "id": "6a42207d-b7e4-4d93-9319-97ae7d16b0f6",
   "metadata": {},
   "outputs": [],
   "source": [
    "chats = [\n",
    "    {\n",
    "        \"sender\": weather_assistant,\n",
    "        \"recipient\": user_proxy,\n",
    "        \"message\":\n",
    "            \"Hello, I'm here to provide recommendations based on the current weather.\"\n",
    "            \"How may I help you?\",\n",
    "        \"summary_method\": None,\n",
    "        \"clear_history\": True,\n",
    "        \"max_turns\": 2,\n",
    "    }\n",
    "]"
   ]
  },
  {
   "cell_type": "code",
   "execution_count": null,
   "id": "813218db-7a92-4ce2-8f41-55859dad856f",
   "metadata": {},
   "outputs": [],
   "source": [
    "initiate_chats(chats)"
   ]
  }
 ],
 "metadata": {
  "kernelspec": {
   "display_name": "Python 3 (ipykernel)",
   "language": "python",
   "name": "python3"
  },
  "language_info": {
   "codemirror_mode": {
    "name": "ipython",
    "version": 3
   },
   "file_extension": ".py",
   "mimetype": "text/x-python",
   "name": "python",
   "nbconvert_exporter": "python",
   "pygments_lexer": "ipython3",
   "version": "3.12.3"
  }
 },
 "nbformat": 4,
 "nbformat_minor": 5
}
